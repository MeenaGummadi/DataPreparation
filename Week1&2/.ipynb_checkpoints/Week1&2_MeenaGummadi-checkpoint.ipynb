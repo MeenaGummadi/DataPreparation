{
 "cells": [
  {
   "cell_type": "markdown",
   "id": "e9c7a57c",
   "metadata": {},
   "source": [
    "##### Question1"
   ]
  },
  {
   "cell_type": "code",
   "execution_count": 1,
   "id": "7ad74c82",
   "metadata": {},
   "outputs": [],
   "source": [
    "# importing libraries\n",
    "import random\n",
    "import pandas as pd\n",
    "import numpy as np\n",
    "import matplotlib.pyplot as plt"
   ]
  },
  {
   "cell_type": "code",
   "execution_count": 2,
   "id": "f982d354",
   "metadata": {},
   "outputs": [
    {
     "data": {
      "text/plain": [
       "[0, 1, 2, 3, 4]"
      ]
     },
     "execution_count": 2,
     "metadata": {},
     "output_type": "execute_result"
    }
   ],
   "source": [
    "#create a list and printing\n",
    "myList=[]\n",
    "for i in range(0,5):\n",
    "    myList.append(i)\n",
    "myList"
   ]
  },
  {
   "cell_type": "code",
   "execution_count": 3,
   "id": "342d3f59",
   "metadata": {},
   "outputs": [
    {
     "name": "stdout",
     "output_type": "stream",
     "text": [
      "0\n",
      "1\n",
      "2\n",
      "3\n",
      "4\n"
     ]
    }
   ],
   "source": [
    "#Iteration\n",
    "for i in myList:\n",
    "    print(i)"
   ]
  },
  {
   "cell_type": "code",
   "execution_count": 4,
   "id": "0faf5243",
   "metadata": {},
   "outputs": [],
   "source": [
    "# sort list in ascending order\n",
    "myList.sort(reverse=False) "
   ]
  },
  {
   "cell_type": "code",
   "execution_count": 5,
   "id": "60ece505",
   "metadata": {},
   "outputs": [
    {
     "name": "stdout",
     "output_type": "stream",
     "text": [
      "Ascending order Sorted List= [0, 1, 2, 3, 4]\n"
     ]
    }
   ],
   "source": [
    "print(\"Ascending order Sorted List=\", myList)"
   ]
  },
  {
   "cell_type": "code",
   "execution_count": 6,
   "id": "f565580e",
   "metadata": {},
   "outputs": [],
   "source": [
    "# # sort list in descending order\n",
    "myList.sort(reverse=True)"
   ]
  },
  {
   "cell_type": "code",
   "execution_count": 7,
   "id": "6c5034d5",
   "metadata": {
    "scrolled": true
   },
   "outputs": [
    {
     "name": "stdout",
     "output_type": "stream",
     "text": [
      "Descending order Sorted List= [4, 3, 2, 1, 0]\n"
     ]
    }
   ],
   "source": [
    "print(\"Descending order Sorted List=\", myList)"
   ]
  },
  {
   "cell_type": "code",
   "execution_count": 8,
   "id": "e5d43cf4",
   "metadata": {},
   "outputs": [
    {
     "name": "stdout",
     "output_type": "stream",
     "text": [
      "[4, 3, 2, 1, 0, 77, 37, 89, 59, 57]\n"
     ]
    }
   ],
   "source": [
    "#Generating random numbers, appending to list and printing\n",
    "for i in range(0,5):\n",
    "    n=random.randint(0,100)\n",
    "    myList.append(n)\n",
    "print(myList)"
   ]
  },
  {
   "cell_type": "markdown",
   "id": "6a97b9ca",
   "metadata": {},
   "source": [
    "##### Question 2"
   ]
  },
  {
   "cell_type": "code",
   "execution_count": 41,
   "id": "e1f77e55",
   "metadata": {
    "scrolled": true
   },
   "outputs": [
    {
     "data": {
      "image/png": "[encoded data removed]",
      "text/plain": [
       "<Figure size 432x288 with 1 Axes>"
      ]
     },
     "metadata": {
      "needs_background": "light"
     },
     "output_type": "display_data"
    }
   ],
   "source": [
    "#Create a line chart with Matplotlib\n",
    "df=pd.read_excel('http://content.bellevue.edu/cst/dsc/540/id/data-files/12-week/weeks-1-&-2/world-population.xlsm')\n",
    "plt.plot(df['Year'],df['Population'])\n",
    "plt.title(\"World Population\")\n",
    "plt.xlabel(\"year\")\n",
    "plt.ylabel(\"Population\")\n",
    "plt.show()"
   ]
  },
  {
   "cell_type": "markdown",
   "id": "5ef371a2",
   "metadata": {},
   "source": [
    "##### Question 3"
   ]
  },
  {
   "cell_type": "markdown",
   "id": "200a765b",
   "metadata": {},
   "source": [
    "###### Activity1"
   ]
  },
  {
   "cell_type": "code",
   "execution_count": 11,
   "id": "7d32c8d4",
   "metadata": {},
   "outputs": [
    {
     "name": "stdout",
     "output_type": "stream",
     "text": [
      "[27, 58, 5, 98, 44, 9, 38, 96, 72, 98, 40, 60, 17, 13, 51, 62, 16, 33, 38, 71, 23, 47, 70, 2, 20, 71, 32, 85, 34, 71, 54, 80, 59, 90, 36, 45, 51, 27, 14, 79, 94, 14, 27, 10, 33, 90, 32, 90, 79, 25, 57, 37, 77, 24, 45, 72, 79, 58, 97, 61, 11, 62, 88, 40, 78, 36, 9, 49, 83, 95, 28, 92, 30, 72, 56, 0, 96, 85, 34, 89, 14, 9, 56, 56, 54, 8, 94, 86, 51, 93, 85, 83, 81, 58, 84, 76, 10, 21, 60, 62]\n"
     ]
    }
   ],
   "source": [
    "#Generating a random list with 100 numbers\n",
    "list1=[]\n",
    "for x in range(0,100):\n",
    "    n=random.randint(0,100)\n",
    "    list1.append(n)\n",
    "print(list1)"
   ]
  },
  {
   "cell_type": "code",
   "execution_count": 12,
   "id": "c81003e3",
   "metadata": {},
   "outputs": [
    {
     "name": "stdout",
     "output_type": "stream",
     "text": [
      "[27, 9, 96, 72, 60, 51, 33, 54, 90, 36, 45, 51, 27, 27, 33, 90, 90, 57, 24, 45, 72, 78, 36, 9, 30, 72, 0, 96, 9, 54, 51, 93, 81, 84, 21, 60]\n"
     ]
    }
   ],
   "source": [
    "# New list from this random list, with numbers that are divisible by 3\n",
    "list2=[]\n",
    "for x in list1:\n",
    "    if x % 3 == 0:\n",
    "        list2.append(x)\n",
    "print(list2)"
   ]
  },
  {
   "cell_type": "code",
   "execution_count": 13,
   "id": "7d019051",
   "metadata": {},
   "outputs": [
    {
     "name": "stdout",
     "output_type": "stream",
     "text": [
      "100\n"
     ]
    }
   ],
   "source": [
    "length1=len(list1)\n",
    "print(length1)"
   ]
  },
  {
   "cell_type": "code",
   "execution_count": 14,
   "id": "389e373d",
   "metadata": {},
   "outputs": [
    {
     "name": "stdout",
     "output_type": "stream",
     "text": [
      "36\n"
     ]
    }
   ],
   "source": [
    "length2=len(list2)\n",
    "print(length2)"
   ]
  },
  {
   "cell_type": "code",
   "execution_count": 15,
   "id": "ccd2896f",
   "metadata": {},
   "outputs": [
    {
     "name": "stdout",
     "output_type": "stream",
     "text": [
      "64\n"
     ]
    }
   ],
   "source": [
    "diff=length1-length2\n",
    "print(diff)"
   ]
  },
  {
   "cell_type": "code",
   "execution_count": 16,
   "id": "a8ec9a16",
   "metadata": {},
   "outputs": [
    {
     "name": "stdout",
     "output_type": "stream",
     "text": [
      "[69, 78, 73]\n"
     ]
    }
   ],
   "source": [
    "diff=[]\n",
    "for i in range(0,3):\n",
    "    list1=[]\n",
    "    list2=[]\n",
    "    for x in range(0,100):\n",
    "        n=random.randint(0,100)\n",
    "        list1.append(n)\n",
    "    lenghth1=len(list1)\n",
    "    for y in list1:\n",
    "        if y % 3 == 0:\n",
    "            list2.append(y)\n",
    "    length2=len(list2)\n",
    "    difference=length1-length2\n",
    "    diff.append(difference)\n",
    "print(diff)\n",
    "    \n",
    "    "
   ]
  },
  {
   "cell_type": "code",
   "execution_count": 17,
   "id": "bdcb1816",
   "metadata": {},
   "outputs": [
    {
     "name": "stdout",
     "output_type": "stream",
     "text": [
      "73.33333333333333\n"
     ]
    }
   ],
   "source": [
    "# Arithmetic Mean calculation\n",
    "mean=sum(diff)/len(diff)\n",
    "print(mean)"
   ]
  },
  {
   "cell_type": "markdown",
   "id": "5f93a816",
   "metadata": {},
   "source": [
    "###### Activity2"
   ]
  },
  {
   "cell_type": "code",
   "execution_count": 18,
   "id": "9ef80743",
   "metadata": {},
   "outputs": [],
   "source": [
    "multiline_text=\"\"\"It is a truth universally acknowledged, that a single man in possession of a good fortune, must be in want of a wife.\n",
    "\n",
    "However little known the feelings or views of such a man may be on his first entering a neighbourhood, this truth is so well fixed in the minds of the surrounding families, that he is considered as the rightful property of some one or other of their daughters.\n",
    "\n",
    "“My dear Mr. Bennet,” said his lady to him one day, “have you heard that Netherfield Park is let at last?”\n",
    "\n",
    "Mr. Bennet replied that he had not.\n",
    "\n",
    "“But it is,” returned she; “for Mrs. Long has just been here, and she told me all about it.”\n",
    "\n",
    "Mr. Bennet made no answer.\n",
    "\n",
    "“Do not you want to know who has taken it?” cried his wife impatiently.\n",
    "\n",
    "“You want to tell me, and I have no objection to hearing it.”\n",
    "\n",
    "This was invitation enough.\n",
    "\n",
    "“Why, my dear, you must know, Mrs. Long says that Netherfield is taken by a young man of large fortune from the north of England; that he came down on Monday in a chaise and four to see the place, and was so much delighted with it that he agreed with Mr. Morris immediately; that he is to take possession before Michaelmas, and some of his servants are to be in the house by the end of next week.”\n",
    "\n",
    "“What is his name?”\n",
    "\n",
    "“Bingley.”\n",
    "\n",
    "“Is he married or single?”\n",
    "\n",
    "“Oh! single, my dear, to be sure! A single man of large fortune; four or five thousand a year. What a fine thing for our girls!”\n",
    "\n",
    "“How so? how can it affect them?”\n",
    "\n",
    "“My dear Mr. Bennet,” replied his wife, “how can you be so tiresome! You must know that I am thinking of his marrying one of them.”\n",
    "\n",
    "“Is that his design in settling here?”\n",
    "\n",
    "“Design! nonsense, how can you talk so! But it is very likely that he may fall in love with one of them, and therefore you must visit him as soon as he comes.”\n",
    "\n",
    "“I see no occasion for that. You and the girls may go, or you may send them by themselves, which perhaps will be still better, for as you are as handsome as any of them, Mr. Bingley might like you the best of the party.”\n",
    "\n",
    "“My dear, you flatter me. I certainly have had my share of beauty, but I do not pretend to be anything extraordinary now. When a woman has five grown-up daughters, she ought to give over thinking of her own beauty.”\n",
    "\n",
    "“In such cases, a woman has not often much beauty to think of.”\n",
    "\n",
    "“But, my dear, you must indeed go and see Mr. Bingley when he comes into the neighbourhood.”\n",
    "\n",
    "“It is more than I engage for, I assure you.”\n",
    "\n",
    "“But consider your daughters. Only think what an establishment it would be for one of them. Sir William and Lady Lucas are determined to go, merely on that account, for in general, you know, they visit no newcomers. Indeed you must go, for it will be impossible for us to visit him, if you do not.”\n",
    "\n",
    "“You are over scrupulous, surely. I dare say Mr. Bingley will be very glad to see you; and I will send a few lines by you to assure him of my hearty consent to his marrying whichever he chooses of the girls; though I must throw in a good word for my little Lizzy.”\n",
    "\n",
    "“I desire you will do no such thing. Lizzy is not a bit better than the others; and I am sure she is not half so handsome as Jane, nor half so good-humoured as Lydia. But you are always giving her the preference.”\n",
    "\n",
    "“They have none of them much to recommend them,” replied he; “they are all silly and ignorant like other girls; but Lizzy has something more of quickness than her sisters.”\n",
    "\n",
    "“Mr. Bennet, how can you abuse your own children in such a way? You take delight in vexing me. You have no compassion on my poor nerves.”\n",
    "\n",
    "“You mistake me, my dear. I have a high respect for your nerves. They are my old friends. I have heard you mention them with consideration these twenty years at least.”\n",
    "\n",
    "“Ah, you do not know what I suffer.”\n",
    "\n",
    "“But I hope you will get over it, and live to see many young men of four thousand a year come into the neighbourhood.”\n",
    "\n",
    "“It will be no use to us, if twenty such should come, since you will not visit them.”\n",
    "\n",
    "“Depend upon it, my dear, that when there are twenty, I will visit them all.”\n",
    "\n",
    "Mr. Bennet was so odd a mixture of quick parts, sarcastic humour, reserve, and caprice, that the experience of three-and-twenty years had been insufficient to make his wife understand his character. Her mind was less difficult to develop. She was a woman of mean understanding, little information, and uncertain temper. When she was discontented, she fancied herself nervous. The business of her life was to get her daughters married; its solace was visiting and news.\"\"\""
   ]
  },
  {
   "cell_type": "code",
   "execution_count": 19,
   "id": "bbb1bbdb",
   "metadata": {},
   "outputs": [
    {
     "data": {
      "text/plain": [
       "str"
      ]
     },
     "execution_count": 19,
     "metadata": {},
     "output_type": "execute_result"
    }
   ],
   "source": [
    "#data type \n",
    "type(multiline_text)"
   ]
  },
  {
   "cell_type": "code",
   "execution_count": 20,
   "id": "739c0771",
   "metadata": {},
   "outputs": [
    {
     "data": {
      "text/plain": [
       "4473"
      ]
     },
     "execution_count": 20,
     "metadata": {},
     "output_type": "execute_result"
    }
   ],
   "source": [
    "#Length of the string\n",
    "len(multiline_text)"
   ]
  },
  {
   "cell_type": "code",
   "execution_count": 21,
   "id": "21495545",
   "metadata": {},
   "outputs": [
    {
     "data": {
      "text/plain": [
       "'It is a truth universally acknowledged, that a single man in possession of a good fortune, must be in want of a wife.However little known the feelings or views of such a man may be on his first entering a neighbourhood, this truth is so well fixed in the minds of the surrounding families, that he is considered as the rightful property of some one or other of their daughters.“My dear Mr. Bennet,” said his lady to him one day, “have you heard that Netherfield Park is let at last?”Mr. Bennet replied that he had not.“But it is,” returned she; “for Mrs. Long has just been here, and she told me all about it.”Mr. Bennet made no answer.“Do not you want to know who has taken it?” cried his wife impatiently.“You want to tell me, and I have no objection to hearing it.”This was invitation enough.“Why, my dear, you must know, Mrs. Long says that Netherfield is taken by a young man of large fortune from the north of England; that he came down on Monday in a chaise and four to see the place, and was so much delighted with it that he agreed with Mr. Morris immediately; that he is to take possession before Michaelmas, and some of his servants are to be in the house by the end of next week.”“What is his name?”“Bingley.”“Is he married or single?”“Oh! single, my dear, to be sure! A single man of large fortune; four or five thousand a year. What a fine thing for our girls!”“How so? how can it affect them?”“My dear Mr. Bennet,” replied his wife, “how can you be so tiresome! You must know that I am thinking of his marrying one of them.”“Is that his design in settling here?”“Design! nonsense, how can you talk so! But it is very likely that he may fall in love with one of them, and therefore you must visit him as soon as he comes.”“I see no occasion for that. You and the girls may go, or you may send them by themselves, which perhaps will be still better, for as you are as handsome as any of them, Mr. Bingley might like you the best of the party.”“My dear, you flatter me. I certainly have had my share of beauty, but I do not pretend to be anything extraordinary now. When a woman has five grown-up daughters, she ought to give over thinking of her own beauty.”“In such cases, a woman has not often much beauty to think of.”“But, my dear, you must indeed go and see Mr. Bingley when he comes into the neighbourhood.”“It is more than I engage for, I assure you.”“But consider your daughters. Only think what an establishment it would be for one of them. Sir William and Lady Lucas are determined to go, merely on that account, for in general, you know, they visit no newcomers. Indeed you must go, for it will be impossible for us to visit him, if you do not.”“You are over scrupulous, surely. I dare say Mr. Bingley will be very glad to see you; and I will send a few lines by you to assure him of my hearty consent to his marrying whichever he chooses of the girls; though I must throw in a good word for my little Lizzy.”“I desire you will do no such thing. Lizzy is not a bit better than the others; and I am sure she is not half so handsome as Jane, nor half so good-humoured as Lydia. But you are always giving her the preference.”“They have none of them much to recommend them,” replied he; “they are all silly and ignorant like other girls; but Lizzy has something more of quickness than her sisters.”“Mr. Bennet, how can you abuse your own children in such a way? You take delight in vexing me. You have no compassion on my poor nerves.”“You mistake me, my dear. I have a high respect for your nerves. They are my old friends. I have heard you mention them with consideration these twenty years at least.”“Ah, you do not know what I suffer.”“But I hope you will get over it, and live to see many young men of four thousand a year come into the neighbourhood.”“It will be no use to us, if twenty such should come, since you will not visit them.”“Depend upon it, my dear, that when there are twenty, I will visit them all.”Mr. Bennet was so odd a mixture of quick parts, sarcastic humour, reserve, and caprice, that the experience of three-and-twenty years had been insufficient to make his wife understand his character. Her mind was less difficult to develop. She was a woman of mean understanding, little information, and uncertain temper. When she was discontented, she fancied herself nervous. The business of her life was to get her daughters married; its solace was visiting and news.'"
      ]
     },
     "execution_count": 21,
     "metadata": {},
     "output_type": "execute_result"
    }
   ],
   "source": [
    "#removing new lines\n",
    "multiline_text.replace(\"\\n\", \"\")"
   ]
  },
  {
   "cell_type": "code",
   "execution_count": 22,
   "id": "e6ce8872",
   "metadata": {},
   "outputs": [
    {
     "data": {
      "text/plain": [
       "'It is a truth universally acknowledged  that a single man in possession of a good fortune  must be in want of a wife   However little known the feelings or views of such a man may be on his first entering a neighbourhood  this truth is so well fixed in the minds of the surrounding families  that he is considered as the rightful property of some one or other of their daughters    My dear Mr  Bennet   said his lady to him one day   have you heard that Netherfield Park is let at last    Mr  Bennet replied that he had not    But it is   returned she   for Mrs  Long has just been here  and she told me all about it    Mr  Bennet made no answer    Do not you want to know who has taken it   cried his wife impatiently    You want to tell me  and I have no objection to hearing it    This was invitation enough    Why  my dear  you must know  Mrs  Long says that Netherfield is taken by a young man of large fortune from the north of England  that he came down on Monday in a chaise and four to see the place  and was so much delighted with it that he agreed with Mr  Morris immediately  that he is to take possession before Michaelmas  and some of his servants are to be in the house by the end of next week     What is his name     Bingley     Is he married or single     Oh  single  my dear  to be sure  A single man of large fortune  four or five thousand a year  What a fine thing for our girls     How so  how can it affect them     My dear Mr  Bennet   replied his wife   how can you be so tiresome  You must know that I am thinking of his marrying one of them     Is that his design in settling here     Design  nonsense  how can you talk so  But it is very likely that he may fall in love with one of them  and therefore you must visit him as soon as he comes     I see no occasion for that  You and the girls may go  or you may send them by themselves  which perhaps will be still better  for as you are as handsome as any of them  Mr  Bingley might like you the best of the party     My dear  you flatter me  I certainly have had my share of beauty  but I do not pretend to be anything extraordinary now  When a woman has five grown up daughters  she ought to give over thinking of her own beauty     In such cases  a woman has not often much beauty to think of     But  my dear  you must indeed go and see Mr  Bingley when he comes into the neighbourhood     It is more than I engage for  I assure you     But consider your daughters  Only think what an establishment it would be for one of them  Sir William and Lady Lucas are determined to go  merely on that account  for in general  you know  they visit no newcomers  Indeed you must go  for it will be impossible for us to visit him  if you do not     You are over scrupulous  surely  I dare say Mr  Bingley will be very glad to see you  and I will send a few lines by you to assure him of my hearty consent to his marrying whichever he chooses of the girls  though I must throw in a good word for my little Lizzy     I desire you will do no such thing  Lizzy is not a bit better than the others  and I am sure she is not half so handsome as Jane  nor half so good humoured as Lydia  But you are always giving her the preference     They have none of them much to recommend them   replied he   they are all silly and ignorant like other girls  but Lizzy has something more of quickness than her sisters     Mr  Bennet  how can you abuse your own children in such a way  You take delight in vexing me  You have no compassion on my poor nerves     You mistake me  my dear  I have a high respect for your nerves  They are my old friends  I have heard you mention them with consideration these twenty years at least     Ah  you do not know what I suffer     But I hope you will get over it  and live to see many young men of four thousand a year come into the neighbourhood     It will be no use to us  if twenty such should come  since you will not visit them     Depend upon it  my dear  that when there are twenty  I will visit them all    Mr  Bennet was so odd a mixture of quick parts  sarcastic humour  reserve  and caprice  that the experience of three and twenty years had been insufficient to make his wife understand his character  Her mind was less difficult to develop  She was a woman of mean understanding  little information  and uncertain temper  When she was discontented  she fancied herself nervous  The business of her life was to get her daughters married  its solace was visiting and news '"
      ]
     },
     "execution_count": 22,
     "metadata": {},
     "output_type": "execute_result"
    }
   ],
   "source": [
    "#Removing symbols\n",
    "new_multiline_text = \"\"\n",
    "for char in multiline_text:\n",
    "    if char == \" \":\n",
    "        new_multiline_text += char\n",
    "    elif char.isalnum():  \n",
    "        new_multiline_text += char\n",
    "    else:\n",
    "        new_multiline_text += \" \"\n",
    "new_multiline_text"
   ]
  },
  {
   "cell_type": "code",
   "execution_count": 23,
   "id": "90df5a85",
   "metadata": {},
   "outputs": [
    {
     "name": "stdout",
     "output_type": "stream",
     "text": [
      "['It', 'is', 'a', 'truth', 'universally', 'acknowledged', 'that', 'a', 'single', 'man', 'in', 'possession', 'of', 'a', 'good', 'fortune', 'must', 'be', 'in', 'want', 'of', 'a', 'wife', 'However', 'little', 'known', 'the', 'feelings', 'or', 'views', 'of', 'such', 'a', 'man', 'may', 'be', 'on', 'his', 'first', 'entering', 'a', 'neighbourhood', 'this', 'truth', 'is', 'so', 'well', 'fixed', 'in', 'the', 'minds', 'of', 'the', 'surrounding', 'families', 'that', 'he', 'is', 'considered', 'as', 'the', 'rightful', 'property', 'of', 'some', 'one', 'or', 'other', 'of', 'their', 'daughters', 'My', 'dear', 'Mr', 'Bennet', 'said', 'his', 'lady', 'to', 'him', 'one', 'day', 'have', 'you', 'heard', 'that', 'Netherfield', 'Park', 'is', 'let', 'at', 'last', 'Mr', 'Bennet', 'replied', 'that', 'he', 'had', 'not', 'But', 'it', 'is', 'returned', 'she', 'for', 'Mrs', 'Long', 'has', 'just', 'been', 'here', 'and', 'she', 'told', 'me', 'all', 'about', 'it', 'Mr', 'Bennet', 'made', 'no', 'answer', 'Do', 'not', 'you', 'want', 'to', 'know', 'who', 'has', 'taken', 'it', 'cried', 'his', 'wife', 'impatiently', 'You', 'want', 'to', 'tell', 'me', 'and', 'I', 'have', 'no', 'objection', 'to', 'hearing', 'it', 'This', 'was', 'invitation', 'enough', 'Why', 'my', 'dear', 'you', 'must', 'know', 'Mrs', 'Long', 'says', 'that', 'Netherfield', 'is', 'taken', 'by', 'a', 'young', 'man', 'of', 'large', 'fortune', 'from', 'the', 'north', 'of', 'England', 'that', 'he', 'came', 'down', 'on', 'Monday', 'in', 'a', 'chaise', 'and', 'four', 'to', 'see', 'the', 'place', 'and', 'was', 'so', 'much', 'delighted', 'with', 'it', 'that', 'he', 'agreed', 'with', 'Mr', 'Morris', 'immediately', 'that', 'he', 'is', 'to', 'take', 'possession', 'before', 'Michaelmas', 'and', 'some', 'of', 'his', 'servants', 'are', 'to', 'be', 'in', 'the', 'house', 'by', 'the', 'end', 'of', 'next', 'week', 'What', 'is', 'his', 'name', 'Bingley', 'Is', 'he', 'married', 'or', 'single', 'Oh', 'single', 'my', 'dear', 'to', 'be', 'sure', 'A', 'single', 'man', 'of', 'large', 'fortune', 'four', 'or', 'five', 'thousand', 'a', 'year', 'What', 'a', 'fine', 'thing', 'for', 'our', 'girls', 'How', 'so', 'how', 'can', 'it', 'affect', 'them', 'My', 'dear', 'Mr', 'Bennet', 'replied', 'his', 'wife', 'how', 'can', 'you', 'be', 'so', 'tiresome', 'You', 'must', 'know', 'that', 'I', 'am', 'thinking', 'of', 'his', 'marrying', 'one', 'of', 'them', 'Is', 'that', 'his', 'design', 'in', 'settling', 'here', 'Design', 'nonsense', 'how', 'can', 'you', 'talk', 'so', 'But', 'it', 'is', 'very', 'likely', 'that', 'he', 'may', 'fall', 'in', 'love', 'with', 'one', 'of', 'them', 'and', 'therefore', 'you', 'must', 'visit', 'him', 'as', 'soon', 'as', 'he', 'comes', 'I', 'see', 'no', 'occasion', 'for', 'that', 'You', 'and', 'the', 'girls', 'may', 'go', 'or', 'you', 'may', 'send', 'them', 'by', 'themselves', 'which', 'perhaps', 'will', 'be', 'still', 'better', 'for', 'as', 'you', 'are', 'as', 'handsome', 'as', 'any', 'of', 'them', 'Mr', 'Bingley', 'might', 'like', 'you', 'the', 'best', 'of', 'the', 'party', 'My', 'dear', 'you', 'flatter', 'me', 'I', 'certainly', 'have', 'had', 'my', 'share', 'of', 'beauty', 'but', 'I', 'do', 'not', 'pretend', 'to', 'be', 'anything', 'extraordinary', 'now', 'When', 'a', 'woman', 'has', 'five', 'grown', 'up', 'daughters', 'she', 'ought', 'to', 'give', 'over', 'thinking', 'of', 'her', 'own', 'beauty', 'In', 'such', 'cases', 'a', 'woman', 'has', 'not', 'often', 'much', 'beauty', 'to', 'think', 'of', 'But', 'my', 'dear', 'you', 'must', 'indeed', 'go', 'and', 'see', 'Mr', 'Bingley', 'when', 'he', 'comes', 'into', 'the', 'neighbourhood', 'It', 'is', 'more', 'than', 'I', 'engage', 'for', 'I', 'assure', 'you', 'But', 'consider', 'your', 'daughters', 'Only', 'think', 'what', 'an', 'establishment', 'it', 'would', 'be', 'for', 'one', 'of', 'them', 'Sir', 'William', 'and', 'Lady', 'Lucas', 'are', 'determined', 'to', 'go', 'merely', 'on', 'that', 'account', 'for', 'in', 'general', 'you', 'know', 'they', 'visit', 'no', 'newcomers', 'Indeed', 'you', 'must', 'go', 'for', 'it', 'will', 'be', 'impossible', 'for', 'us', 'to', 'visit', 'him', 'if', 'you', 'do', 'not', 'You', 'are', 'over', 'scrupulous', 'surely', 'I', 'dare', 'say', 'Mr', 'Bingley', 'will', 'be', 'very', 'glad', 'to', 'see', 'you', 'and', 'I', 'will', 'send', 'a', 'few', 'lines', 'by', 'you', 'to', 'assure', 'him', 'of', 'my', 'hearty', 'consent', 'to', 'his', 'marrying', 'whichever', 'he', 'chooses', 'of', 'the', 'girls', 'though', 'I', 'must', 'throw', 'in', 'a', 'good', 'word', 'for', 'my', 'little', 'Lizzy', 'I', 'desire', 'you', 'will', 'do', 'no', 'such', 'thing', 'Lizzy', 'is', 'not', 'a', 'bit', 'better', 'than', 'the', 'others', 'and', 'I', 'am', 'sure', 'she', 'is', 'not', 'half', 'so', 'handsome', 'as', 'Jane', 'nor', 'half', 'so', 'good', 'humoured', 'as', 'Lydia', 'But', 'you', 'are', 'always', 'giving', 'her', 'the', 'preference', 'They', 'have', 'none', 'of', 'them', 'much', 'to', 'recommend', 'them', 'replied', 'he', 'they', 'are', 'all', 'silly', 'and', 'ignorant', 'like', 'other', 'girls', 'but', 'Lizzy', 'has', 'something', 'more', 'of', 'quickness', 'than', 'her', 'sisters', 'Mr', 'Bennet', 'how', 'can', 'you', 'abuse', 'your', 'own', 'children', 'in', 'such', 'a', 'way', 'You', 'take', 'delight', 'in', 'vexing', 'me', 'You', 'have', 'no', 'compassion', 'on', 'my', 'poor', 'nerves', 'You', 'mistake', 'me', 'my', 'dear', 'I', 'have', 'a', 'high', 'respect', 'for', 'your', 'nerves', 'They', 'are', 'my', 'old', 'friends', 'I', 'have', 'heard', 'you', 'mention', 'them', 'with', 'consideration', 'these', 'twenty', 'years', 'at', 'least', 'Ah', 'you', 'do', 'not', 'know', 'what', 'I', 'suffer', 'But', 'I', 'hope', 'you', 'will', 'get', 'over', 'it', 'and', 'live', 'to', 'see', 'many', 'young', 'men', 'of', 'four', 'thousand', 'a', 'year', 'come', 'into', 'the', 'neighbourhood', 'It', 'will', 'be', 'no', 'use', 'to', 'us', 'if', 'twenty', 'such', 'should', 'come', 'since', 'you', 'will', 'not', 'visit', 'them', 'Depend', 'upon', 'it', 'my', 'dear', 'that', 'when', 'there', 'are', 'twenty', 'I', 'will', 'visit', 'them', 'all', 'Mr', 'Bennet', 'was', 'so', 'odd', 'a', 'mixture', 'of', 'quick', 'parts', 'sarcastic', 'humour', 'reserve', 'and', 'caprice', 'that', 'the', 'experience', 'of', 'three', 'and', 'twenty', 'years', 'had', 'been', 'insufficient', 'to', 'make', 'his', 'wife', 'understand', 'his', 'character', 'Her', 'mind', 'was', 'less', 'difficult', 'to', 'develop', 'She', 'was', 'a', 'woman', 'of', 'mean', 'understanding', 'little', 'information', 'and', 'uncertain', 'temper', 'When', 'she', 'was', 'discontented', 'she', 'fancied', 'herself', 'nervous', 'The', 'business', 'of', 'her', 'life', 'was', 'to', 'get', 'her', 'daughters', 'married', 'its', 'solace', 'was', 'visiting', 'and', 'news']\n"
     ]
    },
    {
     "data": {
      "text/plain": [
       "852"
      ]
     },
     "execution_count": 23,
     "metadata": {},
     "output_type": "execute_result"
    }
   ],
   "source": [
    "# split the text\n",
    "SplitText=new_multiline_text.split()\n",
    "print(SplitText)\n",
    "len(SplitText)"
   ]
  },
  {
   "cell_type": "code",
   "execution_count": 24,
   "id": "6e54f81d",
   "metadata": {},
   "outputs": [
    {
     "name": "stdout",
     "output_type": "stream",
     "text": [
      "{'desire', 'four', 'well', 'nervous', 'its', 'are', 'married', 'think', 'considered', 'Lydia', 'likely', 'share', 'us', 'have', 'Bingley', 'bit', 'in', 'sisters', 'be', 'my', 'business', 'party', 'last', 'as', 'fine', 'mention', 'silly', 'Michaelmas', 'one', 'therefore', 'much', 'impatiently', 'for', 'friends', 'they', 'next', 'high', 'nor', 'see', 'lines', 'discontented', 'thinking', 'Park', 'entering', 'often', 'least', 'tell', 'truth', 'north', 'just', 'word', 'What', 'In', 'man', 'year', 'character', 'Jane', 'marrying', 'she', 'own', 'establishment', 'he', 'neighbourhood', 'delight', 'She', 'go', 'possession', 'insufficient', 'less', 'thousand', 'you', 'mistake', 'or', 'consideration', 'Is', 'Bennet', 'a', 'their', 'Do', 'these', 'men', 'twenty', 'Mr', 'chaise', 'young', 'flatter', 'objection', 'daughters', 'It', 'hearing', 'way', 'account', 'Why', 'But', 'views', 'vexing', 'live', 'thing', 'girls', 'such', 'is', 'day', 'sure', 'say', 'Lucas', 'up', 'My', 'do', 'the', 'mixture', 'settling', 'our', 'replied', 'three', 'like', 'rightful', 'certainly', 'merely', 'visiting', 'agreed', 'ought', 'over', 'all', 'nerves', 'better', 'heard', 'on', 'your', 'am', 'old', 'very', 'still', 'William', 'Morris', 'poor', 'something', 'half', 'throw', 'beauty', 'uncertain', 'not', 'Sir', 'invitation', 'A', 'Lizzy', 'an', 'love', 'said', 'hearty', 'upon', 'You', 'humoured', 'themselves', 'best', 'about', 'me', 'herself', 'extraordinary', 'get', 'sarcastic', 'no', 'solace', 'hope', 'many', 'dear', 'let', 'assure', 'I', 'enough', 'returned', 'taken', 'fall', 'humour', 'at', 'had', 'Her', 'property', 'can', 'recommend', 'down', 'When', 'develop', 'cases', 'abuse', 'quick', 'Design', 'mind', 'understanding', 'would', 'use', 'odd', 'her', 'into', 'came', 'before', 'fortune', 'send', 'them', 'answer', 'if', 'large', 'give', 'pretend', 'there', 'years', 'comes', 'five', 'how', 'affect', 'little', 'know', 'giving', 'The', 'always', 'engage', 'Mrs', 'life', 'some', 'lady', 'fancied', 'been', 'Lady', 'minds', 'so', 'others', 'ignorant', 'name', 'though', 'now', 'of', 'take', 'understand', 'cried', 'experience', 'woman', 'caprice', 'families', 'made', 'Long', 'design', 'may', 'week', 'consider', 'servants', 'Monday', 'newcomers', 'might', 'none', 'known', 'good', 'dare', 'immediately', 'tiresome', 'want', 'grown', 'news', 'impossible', 'handsome', 'quickness', 'Depend', 'Ah', 'to', 'chooses', 'make', 'that', 'must', 'reserve', 'respect', 'preference', 'other', 'this', 'told', 'and', 'any', 'acknowledged', 'How', 'children', 'feelings', 'since', 'his', 'perhaps', 'indeed', 'come', 'surrounding', 'Oh', 'general', 'information', 'glad', 'from', 'house', 'soon', 'scrupulous', 'consent', 'mean', 'temper', 'fixed', 'what', 'However', 'by', 'determined', 'They', 'single', 'was', 'place', 'but', 'whichever', 'Netherfield', 'which', 'Indeed', 'should', 'difficult', 'occasion', 'end', 'suffer', 'more', 'England', 'will', 'when', 'This', 'with', 'talk', 'visit', 'wife', 'compassion', 'who', 'parts', 'says', 'nonsense', 'Only', 'universally', 'here', 'first', 'anything', 'has', 'him', 'than', 'few', 'it', 'surely', 'delighted'}\n"
     ]
    },
    {
     "data": {
      "text/plain": [
       "340"
      ]
     },
     "execution_count": 24,
     "metadata": {},
     "output_type": "execute_result"
    }
   ],
   "source": [
    "#use set to retreive unique words in the list\n",
    "unique_list=set(SplitText)\n",
    "print(unique_list)\n",
    "len(unique_list)"
   ]
  },
  {
   "cell_type": "code",
   "execution_count": 43,
   "id": "db6e4e1e",
   "metadata": {},
   "outputs": [
    {
     "data": {
      "text/plain": [
       "{'desire': 1,\n",
       " 'four': 3,\n",
       " 'well': 1,\n",
       " 'nervous': 1,\n",
       " 'its': 1,\n",
       " 'are': 8,\n",
       " 'married': 2,\n",
       " 'think': 2,\n",
       " 'considered': 1,\n",
       " 'Lydia': 1,\n",
       " 'likely': 1,\n",
       " 'share': 1,\n",
       " 'us': 2,\n",
       " 'have': 7,\n",
       " 'Bingley': 4,\n",
       " 'bit': 1,\n",
       " 'in': 11,\n",
       " 'sisters': 1,\n",
       " 'be': 11,\n",
       " 'my': 10,\n",
       " 'business': 1,\n",
       " 'party': 1,\n",
       " 'last': 1,\n",
       " 'as': 8,\n",
       " 'fine': 1,\n",
       " 'mention': 1,\n",
       " 'silly': 1,\n",
       " 'Michaelmas': 1,\n",
       " 'one': 5,\n",
       " 'therefore': 1,\n",
       " 'much': 3,\n",
       " 'impatiently': 1,\n",
       " 'for': 11,\n",
       " 'friends': 1,\n",
       " 'they': 2,\n",
       " 'next': 1,\n",
       " 'high': 1,\n",
       " 'nor': 1,\n",
       " 'see': 5,\n",
       " 'lines': 1,\n",
       " 'discontented': 1,\n",
       " 'thinking': 2,\n",
       " 'Park': 1,\n",
       " 'entering': 1,\n",
       " 'often': 1,\n",
       " 'least': 1,\n",
       " 'tell': 1,\n",
       " 'truth': 2,\n",
       " 'north': 1,\n",
       " 'just': 1,\n",
       " 'word': 1,\n",
       " 'What': 2,\n",
       " 'In': 1,\n",
       " 'man': 4,\n",
       " 'year': 2,\n",
       " 'character': 1,\n",
       " 'Jane': 1,\n",
       " 'marrying': 2,\n",
       " 'she': 6,\n",
       " 'own': 2,\n",
       " 'establishment': 1,\n",
       " 'he': 11,\n",
       " 'neighbourhood': 3,\n",
       " 'delight': 1,\n",
       " 'She': 1,\n",
       " 'go': 4,\n",
       " 'possession': 2,\n",
       " 'insufficient': 1,\n",
       " 'less': 1,\n",
       " 'thousand': 2,\n",
       " 'you': 24,\n",
       " 'mistake': 1,\n",
       " 'or': 5,\n",
       " 'consideration': 1,\n",
       " 'Is': 2,\n",
       " 'Bennet': 6,\n",
       " 'a': 20,\n",
       " 'their': 1,\n",
       " 'Do': 1,\n",
       " 'these': 1,\n",
       " 'men': 1,\n",
       " 'twenty': 4,\n",
       " 'Mr': 10,\n",
       " 'chaise': 1,\n",
       " 'young': 2,\n",
       " 'flatter': 1,\n",
       " 'objection': 1,\n",
       " 'daughters': 4,\n",
       " 'It': 3,\n",
       " 'hearing': 1,\n",
       " 'way': 1,\n",
       " 'account': 1,\n",
       " 'Why': 1,\n",
       " 'But': 6,\n",
       " 'views': 1,\n",
       " 'vexing': 1,\n",
       " 'live': 1,\n",
       " 'thing': 2,\n",
       " 'girls': 4,\n",
       " 'such': 5,\n",
       " 'is': 12,\n",
       " 'day': 1,\n",
       " 'sure': 2,\n",
       " 'say': 1,\n",
       " 'Lucas': 1,\n",
       " 'up': 1,\n",
       " 'My': 3,\n",
       " 'do': 4,\n",
       " 'the': 17,\n",
       " 'mixture': 1,\n",
       " 'settling': 1,\n",
       " 'our': 1,\n",
       " 'replied': 3,\n",
       " 'three': 1,\n",
       " 'like': 2,\n",
       " 'rightful': 1,\n",
       " 'certainly': 1,\n",
       " 'merely': 1,\n",
       " 'visiting': 1,\n",
       " 'agreed': 1,\n",
       " 'ought': 1,\n",
       " 'over': 3,\n",
       " 'all': 3,\n",
       " 'nerves': 2,\n",
       " 'better': 2,\n",
       " 'heard': 2,\n",
       " 'on': 4,\n",
       " 'your': 3,\n",
       " 'am': 2,\n",
       " 'old': 1,\n",
       " 'very': 2,\n",
       " 'still': 1,\n",
       " 'William': 1,\n",
       " 'Morris': 1,\n",
       " 'poor': 1,\n",
       " 'something': 1,\n",
       " 'half': 2,\n",
       " 'throw': 1,\n",
       " 'beauty': 3,\n",
       " 'uncertain': 1,\n",
       " 'not': 9,\n",
       " 'Sir': 1,\n",
       " 'invitation': 1,\n",
       " 'A': 1,\n",
       " 'Lizzy': 3,\n",
       " 'an': 1,\n",
       " 'love': 1,\n",
       " 'said': 1,\n",
       " 'hearty': 1,\n",
       " 'upon': 1,\n",
       " 'You': 7,\n",
       " 'humoured': 1,\n",
       " 'themselves': 1,\n",
       " 'best': 1,\n",
       " 'about': 1,\n",
       " 'me': 5,\n",
       " 'herself': 1,\n",
       " 'extraordinary': 1,\n",
       " 'get': 2,\n",
       " 'sarcastic': 1,\n",
       " 'no': 7,\n",
       " 'solace': 1,\n",
       " 'hope': 1,\n",
       " 'many': 1,\n",
       " 'dear': 8,\n",
       " 'let': 1,\n",
       " 'assure': 2,\n",
       " 'I': 17,\n",
       " 'enough': 1,\n",
       " 'returned': 1,\n",
       " 'taken': 2,\n",
       " 'fall': 1,\n",
       " 'humour': 1,\n",
       " 'at': 2,\n",
       " 'had': 3,\n",
       " 'Her': 1,\n",
       " 'property': 1,\n",
       " 'can': 4,\n",
       " 'recommend': 1,\n",
       " 'down': 1,\n",
       " 'When': 2,\n",
       " 'develop': 1,\n",
       " 'cases': 1,\n",
       " 'abuse': 1,\n",
       " 'quick': 1,\n",
       " 'Design': 1,\n",
       " 'mind': 1,\n",
       " 'understanding': 1,\n",
       " 'would': 1,\n",
       " 'use': 1,\n",
       " 'odd': 1,\n",
       " 'her': 5,\n",
       " 'into': 2,\n",
       " 'came': 1,\n",
       " 'before': 1,\n",
       " 'fortune': 3,\n",
       " 'send': 2,\n",
       " 'them': 11,\n",
       " 'answer': 1,\n",
       " 'if': 2,\n",
       " 'large': 2,\n",
       " 'give': 1,\n",
       " 'pretend': 1,\n",
       " 'there': 1,\n",
       " 'years': 2,\n",
       " 'comes': 2,\n",
       " 'five': 2,\n",
       " 'how': 4,\n",
       " 'affect': 1,\n",
       " 'little': 3,\n",
       " 'know': 5,\n",
       " 'giving': 1,\n",
       " 'The': 1,\n",
       " 'always': 1,\n",
       " 'engage': 1,\n",
       " 'Mrs': 2,\n",
       " 'life': 1,\n",
       " 'some': 2,\n",
       " 'lady': 1,\n",
       " 'fancied': 1,\n",
       " 'been': 2,\n",
       " 'Lady': 1,\n",
       " 'minds': 1,\n",
       " 'so': 8,\n",
       " 'others': 1,\n",
       " 'ignorant': 1,\n",
       " 'name': 1,\n",
       " 'though': 1,\n",
       " 'now': 1,\n",
       " 'of': 29,\n",
       " 'take': 2,\n",
       " 'understand': 1,\n",
       " 'cried': 1,\n",
       " 'experience': 1,\n",
       " 'woman': 3,\n",
       " 'caprice': 1,\n",
       " 'families': 1,\n",
       " 'made': 1,\n",
       " 'Long': 2,\n",
       " 'design': 1,\n",
       " 'may': 4,\n",
       " 'week': 1,\n",
       " 'consider': 1,\n",
       " 'servants': 1,\n",
       " 'Monday': 1,\n",
       " 'newcomers': 1,\n",
       " 'might': 1,\n",
       " 'none': 1,\n",
       " 'known': 1,\n",
       " 'good': 3,\n",
       " 'dare': 1,\n",
       " 'immediately': 1,\n",
       " 'tiresome': 1,\n",
       " 'want': 3,\n",
       " 'grown': 1,\n",
       " 'news': 1,\n",
       " 'impossible': 1,\n",
       " 'handsome': 2,\n",
       " 'quickness': 1,\n",
       " 'Depend': 1,\n",
       " 'Ah': 1,\n",
       " 'to': 22,\n",
       " 'chooses': 1,\n",
       " 'make': 1,\n",
       " 'that': 15,\n",
       " 'must': 7,\n",
       " 'reserve': 1,\n",
       " 'respect': 1,\n",
       " 'preference': 1,\n",
       " 'other': 2,\n",
       " 'this': 1,\n",
       " 'told': 1,\n",
       " 'and': 17,\n",
       " 'any': 1,\n",
       " 'acknowledged': 1,\n",
       " 'How': 1,\n",
       " 'children': 1,\n",
       " 'feelings': 1,\n",
       " 'since': 1,\n",
       " 'his': 11,\n",
       " 'perhaps': 1,\n",
       " 'indeed': 1,\n",
       " 'come': 2,\n",
       " 'surrounding': 1,\n",
       " 'Oh': 1,\n",
       " 'general': 1,\n",
       " 'information': 1,\n",
       " 'glad': 1,\n",
       " 'from': 1,\n",
       " 'house': 1,\n",
       " 'soon': 1,\n",
       " 'scrupulous': 1,\n",
       " 'consent': 1,\n",
       " 'mean': 1,\n",
       " 'temper': 1,\n",
       " 'fixed': 1,\n",
       " 'what': 2,\n",
       " 'However': 1,\n",
       " 'by': 4,\n",
       " 'determined': 1,\n",
       " 'They': 2,\n",
       " 'single': 4,\n",
       " 'was': 8,\n",
       " 'place': 1,\n",
       " 'but': 2,\n",
       " 'whichever': 1,\n",
       " 'Netherfield': 2,\n",
       " 'which': 1,\n",
       " 'Indeed': 1,\n",
       " 'should': 1,\n",
       " 'difficult': 1,\n",
       " 'occasion': 1,\n",
       " 'end': 1,\n",
       " 'suffer': 1,\n",
       " 'more': 2,\n",
       " 'England': 1,\n",
       " 'will': 9,\n",
       " 'when': 2,\n",
       " 'This': 1,\n",
       " 'with': 4,\n",
       " 'talk': 1,\n",
       " 'visit': 5,\n",
       " 'wife': 4,\n",
       " 'compassion': 1,\n",
       " 'who': 1,\n",
       " 'parts': 1,\n",
       " 'says': 1,\n",
       " 'nonsense': 1,\n",
       " 'Only': 1,\n",
       " 'universally': 1,\n",
       " 'here': 2,\n",
       " 'first': 1,\n",
       " 'anything': 1,\n",
       " 'has': 5,\n",
       " 'him': 4,\n",
       " 'than': 3,\n",
       " 'few': 1,\n",
       " 'it': 11,\n",
       " 'surely': 1,\n",
       " 'delighted': 1}"
      ]
     },
     "execution_count": 43,
     "metadata": {},
     "output_type": "execute_result"
    }
   ],
   "source": [
    "# Getting the count of the words\n",
    "unique_words = {}\n",
    "\n",
    "for word in unique_list:\n",
    "    unique_words[word] = SplitText.count(word)\n",
    "unique_words"
   ]
  },
  {
   "cell_type": "code",
   "execution_count": 26,
   "id": "c21ab917",
   "metadata": {},
   "outputs": [],
   "source": [
    "#finding top 25 words by sorting\n",
    "top_list=sorted(unique_words.items(),key=lambda x: x[1], reverse=True)"
   ]
  },
  {
   "cell_type": "code",
   "execution_count": 27,
   "id": "cc149811",
   "metadata": {},
   "outputs": [
    {
     "data": {
      "text/plain": [
       "[('of', 29),\n",
       " ('you', 24),\n",
       " ('to', 22),\n",
       " ('a', 20),\n",
       " ('the', 17),\n",
       " ('and', 17),\n",
       " ('I', 17),\n",
       " ('that', 15),\n",
       " ('is', 12),\n",
       " ('in', 11),\n",
       " ('be', 11),\n",
       " ('his', 11),\n",
       " ('he', 11),\n",
       " ('it', 11),\n",
       " ('for', 11),\n",
       " ('them', 11),\n",
       " ('Mr', 10),\n",
       " ('my', 10),\n",
       " ('not', 9),\n",
       " ('will', 9),\n",
       " ('so', 8),\n",
       " ('as', 8),\n",
       " ('dear', 8),\n",
       " ('was', 8),\n",
       " ('are', 8)]"
      ]
     },
     "execution_count": 27,
     "metadata": {},
     "output_type": "execute_result"
    }
   ],
   "source": [
    "top_list[:25]"
   ]
  },
  {
   "cell_type": "code",
   "execution_count": 44,
   "id": "d84401b1",
   "metadata": {},
   "outputs": [
    {
     "data": {
      "text/plain": [
       "{'desire': 1,\n",
       " 'four': 3,\n",
       " 'well': 1,\n",
       " 'nervous': 1,\n",
       " 'its': 1,\n",
       " 'are': 8,\n",
       " 'married': 2,\n",
       " 'only': 1,\n",
       " 'think': 2,\n",
       " 'considered': 1,\n",
       " 'likely': 1,\n",
       " 'share': 1,\n",
       " 'us': 2,\n",
       " 'have': 7,\n",
       " 'bit': 1,\n",
       " 'in': 12,\n",
       " 'sisters': 1,\n",
       " 'be': 11,\n",
       " 'my': 13,\n",
       " 'business': 1,\n",
       " 'party': 1,\n",
       " 'last': 1,\n",
       " 'as': 8,\n",
       " 'fine': 1,\n",
       " 'mention': 1,\n",
       " 'silly': 1,\n",
       " 'one': 5,\n",
       " 'therefore': 1,\n",
       " 'much': 3,\n",
       " 'impatiently': 1,\n",
       " 'for': 11,\n",
       " 'friends': 1,\n",
       " 'they': 4,\n",
       " 'next': 1,\n",
       " 'high': 1,\n",
       " 'nor': 1,\n",
       " 'see': 5,\n",
       " 'lines': 1,\n",
       " 'ah': 1,\n",
       " 'discontented': 1,\n",
       " 'thinking': 2,\n",
       " 'entering': 1,\n",
       " 'often': 1,\n",
       " 'least': 1,\n",
       " 'tell': 1,\n",
       " 'truth': 2,\n",
       " 'north': 1,\n",
       " 'just': 1,\n",
       " 'word': 1,\n",
       " 'man': 4,\n",
       " 'bingley': 4,\n",
       " 'year': 2,\n",
       " 'character': 1,\n",
       " 'marrying': 2,\n",
       " 'she': 7,\n",
       " 'own': 2,\n",
       " 'establishment': 1,\n",
       " 'he': 11,\n",
       " 'neighbourhood': 3,\n",
       " 'delight': 1,\n",
       " 'go': 4,\n",
       " 'possession': 2,\n",
       " 'insufficient': 1,\n",
       " 'less': 1,\n",
       " 'thousand': 2,\n",
       " 'you': 31,\n",
       " 'mistake': 1,\n",
       " 'or': 5,\n",
       " 'consideration': 1,\n",
       " 'lydia': 1,\n",
       " 'a': 21,\n",
       " 'their': 1,\n",
       " 'these': 1,\n",
       " 'men': 1,\n",
       " 'twenty': 4,\n",
       " 'chaise': 1,\n",
       " 'young': 2,\n",
       " 'flatter': 1,\n",
       " 'park': 1,\n",
       " 'objection': 1,\n",
       " 'daughters': 4,\n",
       " 'hearing': 1,\n",
       " 'way': 1,\n",
       " 'account': 1,\n",
       " 'lizzy': 3,\n",
       " 'views': 1,\n",
       " 'vexing': 1,\n",
       " 'live': 1,\n",
       " 'thing': 2,\n",
       " 'girls': 4,\n",
       " 'such': 5,\n",
       " 'is': 14,\n",
       " 'day': 1,\n",
       " 'sure': 2,\n",
       " 'say': 1,\n",
       " 'up': 1,\n",
       " 'do': 5,\n",
       " 'however': 1,\n",
       " 'the': 18,\n",
       " 'mixture': 1,\n",
       " 'settling': 1,\n",
       " 'our': 1,\n",
       " 'replied': 3,\n",
       " 'three': 1,\n",
       " 'like': 2,\n",
       " 'rightful': 1,\n",
       " 'certainly': 1,\n",
       " 'merely': 1,\n",
       " 'visiting': 1,\n",
       " 'agreed': 1,\n",
       " 'ought': 1,\n",
       " 'over': 3,\n",
       " 'all': 3,\n",
       " 'nerves': 2,\n",
       " 'better': 2,\n",
       " 'heard': 2,\n",
       " 'on': 4,\n",
       " 'your': 3,\n",
       " 'am': 2,\n",
       " 'old': 1,\n",
       " 'very': 2,\n",
       " 'still': 1,\n",
       " 'poor': 1,\n",
       " 'something': 1,\n",
       " 'half': 2,\n",
       " 'throw': 1,\n",
       " 'beauty': 3,\n",
       " 'uncertain': 1,\n",
       " 'not': 9,\n",
       " 'invitation': 1,\n",
       " 'an': 1,\n",
       " 'love': 1,\n",
       " 'said': 1,\n",
       " 'hearty': 1,\n",
       " 'upon': 1,\n",
       " 'mr': 10,\n",
       " 'humoured': 1,\n",
       " 'themselves': 1,\n",
       " 'best': 1,\n",
       " 'why': 1,\n",
       " 'about': 1,\n",
       " 'me': 5,\n",
       " 'herself': 1,\n",
       " 'extraordinary': 1,\n",
       " 'get': 2,\n",
       " 'sarcastic': 1,\n",
       " 'no': 7,\n",
       " 'solace': 1,\n",
       " 'hope': 1,\n",
       " 'many': 1,\n",
       " 'dear': 8,\n",
       " 'let': 1,\n",
       " 'assure': 2,\n",
       " 'enough': 1,\n",
       " 'returned': 1,\n",
       " 'taken': 2,\n",
       " 'fall': 1,\n",
       " 'humour': 1,\n",
       " 'at': 2,\n",
       " 'had': 3,\n",
       " 'long': 2,\n",
       " 'property': 1,\n",
       " 'can': 4,\n",
       " 'recommend': 1,\n",
       " 'michaelmas': 1,\n",
       " 'down': 1,\n",
       " 'develop': 1,\n",
       " 'cases': 1,\n",
       " 'abuse': 1,\n",
       " 'quick': 1,\n",
       " 'jane': 1,\n",
       " 'mind': 1,\n",
       " 'understanding': 1,\n",
       " 'would': 1,\n",
       " 'use': 1,\n",
       " 'mrs': 2,\n",
       " 'monday': 1,\n",
       " 'odd': 1,\n",
       " 'her': 6,\n",
       " 'into': 2,\n",
       " 'came': 1,\n",
       " 'before': 1,\n",
       " 'fortune': 3,\n",
       " 'send': 2,\n",
       " 'them': 11,\n",
       " 'answer': 1,\n",
       " 'if': 2,\n",
       " 'large': 2,\n",
       " 'give': 1,\n",
       " 'pretend': 1,\n",
       " 'there': 1,\n",
       " 'years': 2,\n",
       " 'lucas': 1,\n",
       " 'comes': 2,\n",
       " 'five': 2,\n",
       " 'how': 5,\n",
       " 'affect': 1,\n",
       " 'little': 3,\n",
       " 'know': 5,\n",
       " 'giving': 1,\n",
       " 'always': 1,\n",
       " 'engage': 1,\n",
       " 'life': 1,\n",
       " 'i': 17,\n",
       " 'some': 2,\n",
       " 'lady': 2,\n",
       " 'fancied': 1,\n",
       " 'been': 2,\n",
       " 'minds': 1,\n",
       " 'so': 8,\n",
       " 'others': 1,\n",
       " 'ignorant': 1,\n",
       " 'name': 1,\n",
       " 'though': 1,\n",
       " 'now': 1,\n",
       " 'of': 29,\n",
       " 'take': 2,\n",
       " 'understand': 1,\n",
       " 'cried': 1,\n",
       " 'experience': 1,\n",
       " 'woman': 3,\n",
       " 'caprice': 1,\n",
       " 'families': 1,\n",
       " 'made': 1,\n",
       " 'design': 2,\n",
       " 'may': 4,\n",
       " 'week': 1,\n",
       " 'consider': 1,\n",
       " 'servants': 1,\n",
       " 'newcomers': 1,\n",
       " 'might': 1,\n",
       " 'none': 1,\n",
       " 'known': 1,\n",
       " 'good': 3,\n",
       " 'dare': 1,\n",
       " 'immediately': 1,\n",
       " 'tiresome': 1,\n",
       " 'william': 1,\n",
       " 'want': 3,\n",
       " 'grown': 1,\n",
       " 'news': 1,\n",
       " 'impossible': 1,\n",
       " 'handsome': 2,\n",
       " 'quickness': 1,\n",
       " 'to': 22,\n",
       " 'chooses': 1,\n",
       " 'england': 1,\n",
       " 'make': 1,\n",
       " 'that': 15,\n",
       " 'must': 7,\n",
       " 'morris': 1,\n",
       " 'reserve': 1,\n",
       " 'respect': 1,\n",
       " 'preference': 1,\n",
       " 'other': 2,\n",
       " 'this': 2,\n",
       " 'told': 1,\n",
       " 'and': 17,\n",
       " 'any': 1,\n",
       " 'netherfield': 2,\n",
       " 'acknowledged': 1,\n",
       " 'children': 1,\n",
       " 'feelings': 1,\n",
       " 'since': 1,\n",
       " 'his': 11,\n",
       " 'perhaps': 1,\n",
       " 'indeed': 2,\n",
       " 'come': 2,\n",
       " 'surrounding': 1,\n",
       " 'general': 1,\n",
       " 'information': 1,\n",
       " 'depend': 1,\n",
       " 'glad': 1,\n",
       " 'from': 1,\n",
       " 'house': 1,\n",
       " 'soon': 1,\n",
       " 'scrupulous': 1,\n",
       " 'consent': 1,\n",
       " 'mean': 1,\n",
       " 'temper': 1,\n",
       " 'fixed': 1,\n",
       " 'what': 4,\n",
       " 'by': 4,\n",
       " 'determined': 1,\n",
       " 'sir': 1,\n",
       " 'single': 4,\n",
       " 'oh': 1,\n",
       " 'was': 8,\n",
       " 'place': 1,\n",
       " 'but': 8,\n",
       " 'whichever': 1,\n",
       " 'which': 1,\n",
       " 'should': 1,\n",
       " 'difficult': 1,\n",
       " 'occasion': 1,\n",
       " 'end': 1,\n",
       " 'suffer': 1,\n",
       " 'more': 2,\n",
       " 'will': 9,\n",
       " 'when': 4,\n",
       " 'with': 4,\n",
       " 'talk': 1,\n",
       " 'visit': 5,\n",
       " 'wife': 4,\n",
       " 'compassion': 1,\n",
       " 'who': 1,\n",
       " 'parts': 1,\n",
       " 'says': 1,\n",
       " 'nonsense': 1,\n",
       " 'universally': 1,\n",
       " 'here': 2,\n",
       " 'bennet': 6,\n",
       " 'first': 1,\n",
       " 'anything': 1,\n",
       " 'has': 5,\n",
       " 'him': 4,\n",
       " 'than': 3,\n",
       " 'few': 1,\n",
       " 'it': 14,\n",
       " 'surely': 1,\n",
       " 'delighted': 1}"
      ]
     },
     "execution_count": 44,
     "metadata": {},
     "output_type": "execute_result"
    }
   ],
   "source": [
    "multiline_text_case = new_multiline_text.lower()\n",
    "words_lowercase = multiline_text_case.split()\n",
    "unique_words_case = list(set(words_lowercase))\n",
    "\n",
    "words_count_case = {}\n",
    "\n",
    "for word in unique_words_case:\n",
    "    words_count_case[word] = words_lowercase.count(word)\n",
    "\n",
    "words_count_case"
   ]
  },
  {
   "cell_type": "markdown",
   "id": "e6b49d35",
   "metadata": {},
   "source": [
    "###### Activity3"
   ]
  },
  {
   "cell_type": "code",
   "execution_count": 28,
   "id": "034e5f15",
   "metadata": {},
   "outputs": [],
   "source": [
    "from itertools import permutations, dropwhile"
   ]
  },
  {
   "cell_type": "code",
   "execution_count": 29,
   "id": "3f577337",
   "metadata": {},
   "outputs": [],
   "source": [
    "permutations?"
   ]
  },
  {
   "cell_type": "code",
   "execution_count": 46,
   "id": "d9c5211c",
   "metadata": {},
   "outputs": [],
   "source": [
    "dropwhile?"
   ]
  },
  {
   "cell_type": "code",
   "execution_count": 31,
   "id": "f16a9e90",
   "metadata": {},
   "outputs": [
    {
     "data": {
      "text/plain": [
       "<itertools.permutations at 0x1a5b6159090>"
      ]
     },
     "execution_count": 31,
     "metadata": {},
     "output_type": "execute_result"
    }
   ],
   "source": [
    "#generate all the possible three-digit numbers using 0,1,2\n",
    "permutations(range(3))"
   ]
  },
  {
   "cell_type": "code",
   "execution_count": 32,
   "id": "c651e14c",
   "metadata": {},
   "outputs": [
    {
     "name": "stdout",
     "output_type": "stream",
     "text": [
      "(0, 1, 2)\n",
      "(0, 2, 1)\n",
      "(1, 0, 2)\n",
      "(1, 2, 0)\n",
      "(2, 0, 1)\n",
      "(2, 1, 0)\n"
     ]
    }
   ],
   "source": [
    "# print elements returned by the iterator\n",
    "for i in permutations(range(3)):\n",
    "    print(i)\n",
    "    assert(isinstance(i, tuple))"
   ]
  },
  {
   "cell_type": "code",
   "execution_count": 47,
   "id": "b12f6ca3",
   "metadata": {
    "scrolled": true
   },
   "outputs": [
    {
     "name": "stdout",
     "output_type": "stream",
     "text": [
      "[1, 2]\n",
      "[2, 1]\n",
      "[1, 0, 2]\n",
      "[1, 2, 0]\n",
      "[2, 0, 1]\n",
      "[2, 1, 0]\n"
     ]
    }
   ],
   "source": [
    "#drop leading zeros\n",
    "for i in permutations(range(3)):\n",
    "    dr=list(dropwhile(lambda x: x <= 0, i))\n",
    "    print(dr)"
   ]
  },
  {
   "cell_type": "code",
   "execution_count": 48,
   "id": "7c0f88de",
   "metadata": {},
   "outputs": [
    {
     "data": {
      "text/plain": [
       "list"
      ]
     },
     "execution_count": 48,
     "metadata": {},
     "output_type": "execute_result"
    }
   ],
   "source": [
    "type(dr)"
   ]
  },
  {
   "cell_type": "code",
   "execution_count": 35,
   "id": "4a9d162f",
   "metadata": {},
   "outputs": [],
   "source": [
    "import math\n",
    "def convert_to_number(number_stack):\n",
    "    final_number = 0\n",
    "    for i in range(0, len(number_stack)):\n",
    "        final_number += (number_stack.pop() * (math.pow(10, i)))\n",
    "    return final_number"
   ]
  },
  {
   "cell_type": "code",
   "execution_count": 36,
   "id": "d1aa0bad",
   "metadata": {
    "scrolled": true
   },
   "outputs": [
    {
     "name": "stdout",
     "output_type": "stream",
     "text": [
      "12.0\n",
      "21.0\n",
      "102.0\n",
      "120.0\n",
      "201.0\n",
      "210.0\n"
     ]
    }
   ],
   "source": [
    "for number_tuple in permutations(range(3)):\n",
    "    number_stack = list(dropwhile(lambda x: x <= 0, number_tuple))\n",
    "    print(convert_to_number(number_stack))"
   ]
  },
  {
   "cell_type": "markdown",
   "id": "2de44c41",
   "metadata": {},
   "source": [
    "###### Activity 4"
   ]
  },
  {
   "cell_type": "code",
   "execution_count": 37,
   "id": "375d7ce9",
   "metadata": {},
   "outputs": [],
   "source": [
    "from itertools import zip_longest"
   ]
  },
  {
   "cell_type": "code",
   "execution_count": 38,
   "id": "addafa05",
   "metadata": {},
   "outputs": [],
   "source": [
    "def return_dict_from_csv_line(header, line):\n",
    "    # Zip them\n",
    "    zipped_line = zip_longest(header, line, fillvalue=None)\n",
    "    # Use dict comprehension to generate the final dict\n",
    "    ret_dict = {kv[0]: kv[1] for kv in zipped_line}\n",
    "    return ret_dict"
   ]
  },
  {
   "cell_type": "code",
   "execution_count": 40,
   "id": "330ba7b7",
   "metadata": {},
   "outputs": [
    {
     "name": "stdout",
     "output_type": "stream",
     "text": [
      "{'Region': 'Central America and the Caribbean', 'Country': 'Antigua and Barbuda ', 'Item Type': 'Baby Food', 'Sales Channel': 'Online', 'Order Priority': 'M', 'Order Date': '12/20/2013', 'Order ID': '957081544', 'Ship Date': '1/11/2014', 'Units Sold': '552', 'Unit Price': '255.28', 'Unit Cost': '159.42', 'Total Revenue': '140914.56', 'Total Cost': '87999.84', 'Total Profit': '52914.72'}\n",
      "{'Region': 'Central America and the Caribbean', 'Country': 'Panama', 'Item Type': 'Snacks', 'Sales Channel': 'Offline', 'Order Priority': 'C', 'Order Date': '7/5/2010', 'Order ID': '301644504', 'Ship Date': '7/26/2010', 'Units Sold': '2167', 'Unit Price': '152.58', 'Unit Cost': '97.44', 'Total Revenue': '330640.86', 'Total Cost': '211152.48', 'Total Profit': '119488.38'}\n",
      "{'Region': 'Europe', 'Country': 'Czech Republic', 'Item Type': 'Beverages', 'Sales Channel': 'Offline', 'Order Priority': 'C', 'Order Date': '9/12/2011', 'Order ID': '478051030', 'Ship Date': '9/29/2011', 'Units Sold': '4778', 'Unit Price': '47.45', 'Unit Cost': '31.79', 'Total Revenue': '226716.10', 'Total Cost': '151892.62', 'Total Profit': '74823.48'}\n",
      "{'Region': 'Asia', 'Country': 'North Korea', 'Item Type': 'Cereal', 'Sales Channel': 'Offline', 'Order Priority': 'L', 'Order Date': '5/13/2010', 'Order ID': '892599952', 'Ship Date': '6/15/2010', 'Units Sold': '9016', 'Unit Price': '205.70', 'Unit Cost': '117.11', 'Total Revenue': '1854591.20', 'Total Cost': '1055863.76', 'Total Profit': '798727.44'}\n",
      "{'Region': 'Asia', 'Country': 'Sri Lanka', 'Item Type': 'Snacks', 'Sales Channel': 'Offline', 'Order Priority': 'C', 'Order Date': '7/20/2015', 'Order ID': '571902596', 'Ship Date': '7/27/2015', 'Units Sold': '7542', 'Unit Price': '152.58', 'Unit Cost': '97.44', 'Total Revenue': '1150758.36', 'Total Cost': '734892.48', 'Total Profit': '415865.88'}\n",
      "{'Region': 'Middle East and North Africa', 'Country': 'Morocco', 'Item Type': 'Personal Care', 'Sales Channel': 'Offline', 'Order Priority': 'L', 'Order Date': '11/8/2010', 'Order ID': '412882792', 'Ship Date': '11/22/2010', 'Units Sold': '48', 'Unit Price': '81.73', 'Unit Cost': '56.67', 'Total Revenue': '3923.04', 'Total Cost': '2720.16', 'Total Profit': '1202.88'}\n",
      "{'Region': 'Australia and Oceania', 'Country': 'Federated States of Micronesia', 'Item Type': 'Clothes', 'Sales Channel': 'Offline', 'Order Priority': 'H', 'Order Date': '3/28/2011', 'Order ID': '932776868', 'Ship Date': '5/10/2011', 'Units Sold': '8258', 'Unit Price': '109.28', 'Unit Cost': '35.84', 'Total Revenue': '902434.24', 'Total Cost': '295966.72', 'Total Profit': '606467.52'}\n",
      "{'Region': 'Europe', 'Country': 'Bosnia and Herzegovina', 'Item Type': 'Clothes', 'Sales Channel': 'Online', 'Order Priority': 'M', 'Order Date': '10/14/2013', 'Order ID': '919133651', 'Ship Date': '11/4/2013', 'Units Sold': '927', 'Unit Price': '109.28', 'Unit Cost': '35.84', 'Total Revenue': '101302.56', 'Total Cost': '33223.68', 'Total Profit': '68078.88'}\n",
      "{'Region': 'Middle East and North Africa', 'Country': 'Afghanistan', 'Item Type': 'Clothes', 'Sales Channel': 'Offline', 'Order Priority': 'M', 'Order Date': '8/27/2016', 'Order ID': '579814469', 'Ship Date': '10/5/2016', 'Units Sold': '8841', 'Unit Price': '109.28', 'Unit Cost': '35.84', 'Total Revenue': '966144.48', 'Total Cost': '316861.44', 'Total Profit': '649283.04'}\n",
      "{'Region': 'Sub-Saharan Africa', 'Country': 'Ethiopia', 'Item Type': 'Baby Food', 'Sales Channel': 'Online', 'Order Priority': 'M', 'Order Date': '4/13/2015', 'Order ID': '192993152', 'Ship Date': '5/7/2015', 'Units Sold': '9817', 'Unit Price': '255.28', 'Unit Cost': '159.42', 'Total Revenue': '2506083.76', 'Total Cost': '1565026.14', 'Total Profit': '941057.62'}\n",
      "{'Region': 'Middle East and North Africa', 'Country': 'Turkey', 'Item Type': 'Office Supplies', 'Sales Channel': 'Offline', 'Order Priority': 'C', 'Order Date': '9/25/2013', 'Order ID': '557156026', 'Ship Date': '10/15/2013', 'Units Sold': '3704', 'Unit Price': '651.21', 'Unit Cost': '524.96', 'Total Revenue': '2412081.84', 'Total Cost': '1944451.84', 'Total Profit': '467630.00'}\n",
      "{'Region': 'Middle East and North Africa', 'Country': 'Oman', 'Item Type': 'Cosmetics', 'Sales Channel': 'Online', 'Order Priority': 'M', 'Order Date': '5/12/2013', 'Order ID': '741101920', 'Ship Date': '5/17/2013', 'Units Sold': '7382', 'Unit Price': '437.20', 'Unit Cost': '263.33', 'Total Revenue': '3227410.40', 'Total Cost': '1943902.06', 'Total Profit': '1283508.34'}\n"
     ]
    }
   ],
   "source": [
    "with open(\"sales_record.csv\", \"r\") as fd:\n",
    "    first_line = fd.readline()\n",
    "    header = first_line.replace(\"\\n\", \"\").split(\",\")\n",
    "    for i, line in enumerate(fd):\n",
    "        # Here we loop over the first 10 lines in order to not to make the output too big\n",
    "        line = line.replace(\"\\n\", \"\").split(\",\")\n",
    "        d = return_dict_from_csv_line(header, line)\n",
    "        print(d)\n",
    "        if i > 10:\n",
    "            break"
   ]
  }
 ],
 "metadata": {
  "kernelspec": {
   "display_name": "Python 3 (ipykernel)",
   "language": "python",
   "name": "python3"
  },
  "language_info": {
   "codemirror_mode": {
    "name": "ipython",
    "version": 3
   },
   "file_extension": ".py",
   "mimetype": "text/x-python",
   "name": "python",
   "nbconvert_exporter": "python",
   "pygments_lexer": "ipython3",
   "version": "3.9.7"
  }
 },
 "nbformat": 4,
 "nbformat_minor": 5
}
